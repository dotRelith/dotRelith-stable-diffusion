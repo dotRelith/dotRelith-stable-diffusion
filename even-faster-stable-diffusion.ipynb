{
  "nbformat": 4,
  "nbformat_minor": 0,
  "metadata": {
    "colab": {
      "provenance": []
    },
    "kernelspec": {
      "name": "python3",
      "display_name": "Python 3"
    },
    "language_info": {
      "name": "python"
    },
    "accelerator": "GPU",
    "gpuClass": "standard"
  },
  "cells": [
    {
      "cell_type": "markdown",
      "source": [
        "# **Even Faster Stable Diffusion** by [dotRelith](https://github.com/dotRelith/even-faster-stable-diffusion)\n",
        "**Step-By-Step Guide:**\n",
        "*   First-time Installation\n",
        "  1.   Mount Google Drive\n",
        "  2.   Install AUTOMATIC1111-web-ui\n",
        "  3.   MODEL DOWNLOAD/LOAD\n",
        "  4.   Start AUTOMATIC1111-web-ui\n",
        "\n",
        "*   Subsequent Installations\n",
        "  1.   Mount Google Drive\n",
        "  2.   MODEL DOWNLOAD/LOAD\n",
        "  3.   Start AUTOMATIC1111-web-ui\n",
        "\n",
        "\n"
      ],
      "metadata": {
        "id": "83PZepZYu4sE"
      }
    },
    {
      "cell_type": "code",
      "execution_count": null,
      "metadata": {
        "cellView": "form",
        "id": "FjFESYlElbUR"
      },
      "outputs": [],
      "source": [
        "#@markdown # Mount Google Drive\n",
        "\n",
        "from google.colab import drive\n",
        "drive.mount('/content/gdrive')"
      ]
    },
    {
      "cell_type": "code",
      "source": [
        "#@markdown # Check GPU\n",
        "#@markdown (Just for curiosity)\n",
        "!nvidia-smi -L"
      ],
      "metadata": {
        "cellView": "form",
        "id": "-hwjRLRgl1t8"
      },
      "execution_count": null,
      "outputs": []
    },
    {
      "cell_type": "code",
      "source": [
        "#@markdown # Install AUTOMATIC1111-web-ui\n",
        "from IPython.display import clear_output\n",
        "\n",
        "!git clone https://github.com/AUTOMATIC1111/stable-diffusion-webui /content/gdrive/MyDrive/stable-diffusion-webui\n",
        "clear_output()\n",
        "print('\u001b[1;32mDONE!')"
      ],
      "metadata": {
        "colab": {
          "base_uri": "https://localhost:8080/"
        },
        "cellView": "form",
        "id": "w3xQ1PhpmEjN",
        "outputId": "f24a9e2c-38f3-4b47-bf5b-731f34c20d24"
      },
      "execution_count": null,
      "outputs": [
        {
          "output_type": "stream",
          "name": "stdout",
          "text": [
            "\u001b[1;32mDONE!\n"
          ]
        }
      ]
    },
    {
      "cell_type": "code",
      "source": [
        "#@markdown # Model Download/Load\n",
        "from IPython.display import clear_output\n",
        "import os\n",
        "#@markdown ---\n",
        "#@markdown > Direct Google Drive path where you stored all your models(.ckpt files).<br>( Leave empty to use Colab HardDrive )\n",
        "CKPT_directory_path = '' #@param {type:\"string\"}\n",
        "#@markdown ---\n",
        "#@markdown > Models to download.<br>(Check boxes to download)\n",
        "AnythingV3 = True #@param {type:\"boolean\"}\n",
        "StableDiffusion_v1_5 = False #@param {type:\"boolean\"}\n",
        "WaifuDiffusion_v1_3 = False #@param {type:\"boolean\"}\n",
        "OpenJourney_v4 = False #@param {type:\"boolean\"}\n",
        "#@markdown ---\n",
        "#@markdown > Direct model link<br>(Leave empty to ignore)\n",
        "FirstCustomModel = '' #@param {type:\"string\"}\n",
        "SecondCustomModel = '' #@param {type:\"string\"}\n",
        "ThirdCustomModel = '' #@param {type:\"string\"}\n",
        "#@markdown ---\n",
        "\n",
        "if CKPT_directory_path == '':\n",
        "  CKPT_directory_path = '/content/models'\n",
        "  if not os.path.exists(CKPT_directory_path):\n",
        "    os.makedirs(CKPT_directory_path)\n",
        "\n",
        "%cd \"$CKPT_directory_path\"\n",
        "\n",
        "if AnythingV3 == True:\n",
        "  if not os.path.exists(\"$CKPT_directory_path/Anything-V3.0-pruned.ckpt\"):\n",
        "    !wget https://huggingface.co/Linaqruf/anything-v3.0/resolve/main/Anything-V3.0-pruned.ckpt\n",
        "  if not os.path.exists(\"$CKPT_directory_path/Anything-V3.0.vae.pt\"):\n",
        "    !wget https://huggingface.co/Linaqruf/anything-v3.0/resolve/main/Anything-V3.0.vae.pt\n",
        "if StableDiffusion_v1_5 == True:\n",
        "  if not os.path.exists(\"$CKPT_directory_path/v1-5-pruned.ckpt\"):\n",
        "    !wget https://huggingface.co/runwayml/stable-diffusion-v1-5/resolve/main/v1-5-pruned.ckpt\n",
        "if WaifuDiffusion_v1_3 == True:\n",
        "  if not os.path.exists(\"$CKPT_directory_path/wd-v1-3-float16.ckpt\"):\n",
        "    !wget https://huggingface.co/hakurei/waifu-diffusion-v1-3/resolve/main/wd-v1-3-float16.ckpt\n",
        "if OpenJourney_v4 == True:\n",
        "  if not os.path.exists(\"$CKPT_directory_path/mdjrny-v4.ckpt\"):\n",
        "    https://huggingface.co/prompthero/openjourney/resolve/main/mdjrny-v4.ckpt\n",
        "  \n",
        "clear_output()\n",
        "print('\u001b[1;32mCOMMON MODELS DONE!')\n",
        "\n",
        "if FirstCustomModel != '':\n",
        "  !wget \"$FirstCustomModel\"\n",
        "if SecondCustomModel != '':\n",
        "  !wget \"$SecondCustomModel\"\n",
        "if ThirdCustomModel != '':\n",
        "  !wget \"$ThirdCustomModel\"  "
      ],
      "metadata": {
        "colab": {
          "base_uri": "https://localhost:8080/"
        },
        "id": "kauowrfL5d30",
        "outputId": "0b9218d2-b8f9-4f85-83d0-64cc81f0d042"
      },
      "execution_count": 2,
      "outputs": [
        {
          "output_type": "stream",
          "name": "stdout",
          "text": [
            "\u001b[1;32mDONE!\n"
          ]
        }
      ]
    },
    {
      "cell_type": "code",
      "source": [
        "#@markdown #Start AUTOMATIC1111-web-ui\n",
        "!pip install https://github.com/camenduru/stable-diffusion-webui-colab/releases/download/0.0.15/xformers-0.0.15.dev0+189828c.d20221207-cp38-cp38-linux_x86_64.whl\n",
        "%cd /content/gdrive/MyDrive/stable-diffusion-webui/\n",
        "!python launch.py --enable-insecure-extension-access --xformers --ckpt-dir \"$CKPT_directory_path\" --deepdanbooru --precision full --no-half --share --lowram"
      ],
      "metadata": {
        "id": "3tf1QDeRn1xP",
        "cellView": "form"
      },
      "execution_count": null,
      "outputs": []
    }
  ]
}