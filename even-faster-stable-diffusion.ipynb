{
  "nbformat": 4,
  "nbformat_minor": 0,
  "metadata": {
    "colab": {
      "provenance": []
    },
    "kernelspec": {
      "name": "python3",
      "display_name": "Python 3"
    },
    "language_info": {
      "name": "python"
    },
    "accelerator": "GPU",
    "gpuClass": "standard"
  },
  "cells": [
    {
      "cell_type": "markdown",
      "source": [
        "# **Even Faster Stable Diffusion** by [dotRelith](https://github.com/dotRelith/even-faster-stable-diffusion)\n",
        "**Step-By-Step Guide:**\n",
        "*   First-time Installation\n",
        "  1.   Mount Google Drive\n",
        "  2.   Install AUTOMATIC1111-web-ui\n",
        "  3.   MODEL DOWNLOAD/LOAD\n",
        "  4.   Start AUTOMATIC1111-web-ui\n",
        "\n",
        "*   Subsequent Installations\n",
        "  1.   Mount Google Drive\n",
        "  2.   MODEL DOWNLOAD/LOAD\n",
        "  3.   Start AUTOMATIC1111-web-ui\n",
        "\n",
        "Note: If you have enough space in your google drive you can put your own models inside the default folder (/content/gdrive/MyDrive/stable-diffusion-webui/models/Stable-diffusion) that everything will work normally.\n"
      ],
      "metadata": {
        "id": "83PZepZYu4sE"
      }
    },
    {
      "cell_type": "code",
      "execution_count": null,
      "metadata": {
        "cellView": "form",
        "id": "FjFESYlElbUR"
      },
      "outputs": [],
      "source": [
        "#@markdown # Mount Google Drive\n",
        "from IPython.display import clear_output\n",
        "from google.colab import drive\n",
        "import os\n",
        "\n",
        "drive.mount('/content/gdrive')"
      ]
    },
    {
      "cell_type": "code",
      "source": [
        "#@markdown # Check GPU\n",
        "#@markdown (Just for curiosity)\n",
        "!nvidia-smi --query-gpu=name,memory.total,memory.free --format=csv,noheader"
      ],
      "metadata": {
        "cellView": "form",
        "id": "-hwjRLRgl1t8"
      },
      "execution_count": null,
      "outputs": []
    },
    {
      "cell_type": "code",
      "source": [
        "#@markdown # Install AUTOMATIC1111-web-ui\n",
        "from IPython.display import clear_output\n",
        "\n",
        "#dotRelithFork = False #@param {type:\"boolean\"}\n",
        "#if dotRelithFork:\n",
        "#  !git clone https://github.com/dotRelith/stable-diffusion-webui-for-colab-TEMP /content/gdrive/MyDrive/stable-diffusion-webui\n",
        "#else:\n",
        "#  !git clone https://github.com/AUTOMATIC1111/stable-diffusion-webui /content/gdrive/MyDrive/stable-diffusion-webui\n",
        "clear_output()\n",
        "print('\u001b[1;32mDONE!\\033[0m')"
      ],
      "metadata": {
        "id": "w3xQ1PhpmEjN",
        "cellView": "form"
      },
      "execution_count": null,
      "outputs": []
    },
    {
      "cell_type": "code",
      "source": [
        "#@markdown # Model Download/Load\n",
        "#@markdown ---\n",
        "#@markdown #RIGHT NOW THIS NOTEBOOK CAN'T LOAD LARGE MODELS IN COLAB SO STICK TO MODELS WITH LESS THAN 5GB<BR>if you know what may be the problem please contact me\n",
        "#@markdown > Direct Google Drive path where you stored all your models(.ckpt files).<br>( Leave empty to use Colab HardDrive )\n",
        "CKPT_directory_path = '' #@param {type:\"string\"}\n",
        "#@markdown ---\n",
        "#@markdown > Common Models to download.<br>(Check boxes to download)\n",
        "AnythingV3 = False #@param {type:\"boolean\"}\n",
        "StableDiffusion_v1_5 = False \n",
        "WaifuDiffusion_v1_3 = False #@param {type:\"boolean\"}\n",
        "OpenJourney_v4 = False #@param {type:\"boolean\"}\n",
        "#@markdown ---\n",
        "#@markdown > Direct model link<br>(Leave empty to ignore)\n",
        "FirstCustomModel = '' #@param {type:\"string\"}\n",
        "SecondCustomModel = '' #@param {type:\"string\"}\n",
        "ThirdCustomModel = '' #@param {type:\"string\"}\n",
        "#@markdown ---\n",
        "\n",
        "if CKPT_directory_path == '':\n",
        "  CKPT_directory_path = '/content/models'\n",
        "  if not os.path.exists(CKPT_directory_path):\n",
        "    os.makedirs(CKPT_directory_path)\n",
        "\n",
        "%cd \"$CKPT_directory_path\"\n",
        "\n",
        "if AnythingV3 == True:\n",
        "  if not os.path.exists(\"$CKPT_directory_path/Anything-V3.0-pruned.ckpt\"):\n",
        "    !wget https://huggingface.co/Linaqruf/anything-v3.0/resolve/main/Anything-V3.0-pruned.ckpt\n",
        "  if not os.path.exists(\"$CKPT_directory_path/Anything-V3.0.vae.pt\"):\n",
        "    !wget https://huggingface.co/Linaqruf/anything-v3.0/resolve/main/Anything-V3.0.vae.pt\n",
        "if StableDiffusion_v1_5 == True:\n",
        "  if not os.path.exists(\"$CKPT_directory_path/v1-5-pruned.ckpt\"):\n",
        "    !wget https://huggingface.co/runwayml/stable-diffusion-v1-5/resolve/main/v1-5-pruned.ckpt\n",
        "if WaifuDiffusion_v1_3 == True:\n",
        "  if not os.path.exists(\"$CKPT_directory_path/wd-v1-3-float16.ckpt\"):\n",
        "    !wget https://huggingface.co/hakurei/waifu-diffusion-v1-3/resolve/main/wd-v1-3-float16.ckpt\n",
        "if OpenJourney_v4 == True:\n",
        "  if not os.path.exists(\"$CKPT_directory_path/mdjrny-v4.ckpt\"):\n",
        "    !wget https://huggingface.co/prompthero/openjourney/resolve/main/mdjrny-v4.ckpt\n",
        "  \n",
        "clear_output()\n",
        "print('\u001b[1;32mCOMMON MODELS DONE!\\033[0m')\n",
        "\n",
        "if FirstCustomModel != '':\n",
        "  !wget \"$FirstCustomModel\"\n",
        "if SecondCustomModel != '':\n",
        "  !wget \"$SecondCustomModel\"\n",
        "if ThirdCustomModel != '':\n",
        "  !wget \"$ThirdCustomModel\"  \n",
        "\n",
        "clear_output()\n",
        "print('\u001b[1;32mCUSTOM MODELS DONE!\\033[0m')"
      ],
      "metadata": {
        "id": "kauowrfL5d30",
        "cellView": "form"
      },
      "execution_count": null,
      "outputs": []
    },
    {
      "cell_type": "code",
      "source": [
        "#@markdown #Start AUTOMATIC1111-web-ui\n",
        "#!pip install https://github.com/camenduru/stable-diffusion-webui-colab/releases/download/0.0.15/xformers-0.0.15.dev0+189828c.d20221207-cp38-cp38-linux_x86_64.whl\n",
        "print('\u001b[1;32mDOWNLOADING XFORMERS\\033[0m')\n",
        "\n",
        "#!pip install ninja\n",
        "#%pip install -qq git+https://github.com/ShivamShrirao/diffusers\n",
        "%pip install -q -U --pre triton\n",
        "%pip install -q accelerate==0.12.0 transformers ftfy bitsandbytes gradio natsort\n",
        "%pip install -q https://github.com/brian6091/xformers-wheels/releases/download/0.0.15.dev0%2B4c06c79/xformers-0.0.15.dev0+4c06c79.d20221205-cp38-cp38-linux_x86_64.whl\n",
        "\n",
        "clear_output()\n",
        "print('\u001b[1;32mXFORMERS DONE!\\033[0m')\n",
        "%cd /content/gdrive/MyDrive/stable-diffusion-webui/\n",
        "!git pull\n",
        "!python launch.py --enable-insecure-extension-access --xformers --ckpt-dir \"$CKPT_directory_path\" --deepdanbooru --precision full --no-half --share --lowram"
      ],
      "metadata": {
        "id": "3tf1QDeRn1xP",
        "cellView": "form"
      },
      "execution_count": 4,
      "outputs": []
    }
  ]
}