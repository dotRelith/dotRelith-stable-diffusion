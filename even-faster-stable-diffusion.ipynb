{
  "nbformat": 4,
  "nbformat_minor": 0,
  "metadata": {
    "colab": {
      "provenance": [],
      "include_colab_link": true
    },
    "kernelspec": {
      "name": "python3",
      "display_name": "Python 3"
    },
    "language_info": {
      "name": "python"
    },
    "accelerator": "GPU",
    "gpuClass": "standard"
  },
  "cells": [
    {
      "cell_type": "markdown",
      "metadata": {
        "id": "view-in-github",
        "colab_type": "text"
      },
      "source": [
        "<a href=\"https://colab.research.google.com/github/dotRelith/even-faster-stable-diffusion/blob/main/even-faster-stable-diffusion.ipynb\" target=\"_parent\"><img src=\"https://colab.research.google.com/assets/colab-badge.svg\" alt=\"Open In Colab\"/></a>"
      ]
    },
    {
      "cell_type": "markdown",
      "source": [],
      "metadata": {
        "id": "83PZepZYu4sE"
      }
    },
    {
      "cell_type": "code",
      "execution_count": 1,
      "metadata": {
        "colab": {
          "base_uri": "https://localhost:8080/"
        },
        "cellView": "form",
        "id": "FjFESYlElbUR",
        "outputId": "4f6db8e9-4f22-4806-9443-a17dfecfc9ab"
      },
      "outputs": [
        {
          "output_type": "stream",
          "name": "stdout",
          "text": [
            "Mounted at /content/gdrive\n"
          ]
        }
      ],
      "source": [
        "#@markdown # Mount Google Drive\n",
        "\n",
        "from google.colab import drive\n",
        "drive.mount('/content/gdrive')"
      ]
    },
    {
      "cell_type": "code",
      "source": [
        "#@markdown # Check GPU\n",
        "gpu_info = !nvidia-smi"
      ],
      "metadata": {
        "cellView": "form",
        "id": "-hwjRLRgl1t8"
      },
      "execution_count": null,
      "outputs": []
    },
    {
      "cell_type": "code",
      "source": [
        "#@markdown # Install AUTOMATIC1111-web-ui\n",
        "from IPython.display import clear_output\n",
        "\n",
        "!git clone https://github.com/AUTOMATIC1111/stable-diffusion-webui /content/gdrive/MyDrive/stable-diffusion-webui\n",
        "clear_output()\n",
        "print('\u001b[1;32mDONE!')"
      ],
      "metadata": {
        "colab": {
          "base_uri": "https://localhost:8080/"
        },
        "id": "w3xQ1PhpmEjN",
        "outputId": "f24a9e2c-38f3-4b47-bf5b-731f34c20d24"
      },
      "execution_count": null,
      "outputs": [
        {
          "output_type": "stream",
          "name": "stdout",
          "text": [
            "\u001b[1;32mDONE!\n"
          ]
        }
      ]
    },
    {
      "cell_type": "code",
      "source": [
        "#@markdown # **MODEL DOWNLOAD/LOAD**\n",
        "from IPython.display import clear_output\n",
        "import os\n",
        "#@markdown ---\n",
        "#@markdown > Direct Google Drive path where you stored all your models(.ckpt files).<br>( Leave empty to use Colab HardDrive )\n",
        "CKPT_directory_path = '' #@param {type:\"string\"}\n",
        "#@markdown ---\n",
        "#@markdown > Models to download.<br>(Check boxes to download)\n",
        "AnythingV3 = True #@param {type:\"boolean\"}\n",
        "AnimeFullLatest = False #@param {type:\"boolean\"}\n",
        "StableDiffusion_v1_5 = False #@param {type:\"boolean\"}\n",
        "WaifuDiffusion_v1_3 = False #@param {type:\"boolean\"}\n",
        "#@markdown ---\n",
        "#@markdown > Direct model link<br>(Leave empty to ignore)\n",
        "FirstCustomModel = '' #@param {type:\"string\"}\n",
        "SecondCustomModel = '' #@param {type:\"string\"}\n",
        "ThirdCustomModel = '' #@param {type:\"string\"}\n",
        "#@markdown ---\n",
        "\n",
        "if CKPT_directory_path == '':\n",
        "  CKPT_directory_path = '/content/models'\n",
        "  if not os.path.exists(CKPT_directory_path):\n",
        "    os.makedirs(CKPT_directory_path)\n",
        "\n",
        "%cd \"$CKPT_directory_path\"\n",
        "\n",
        "if AnimeFullLatest == True:\n",
        "  if not os.path.exists(\"$CKPT_directory_path/novelailatest-pruned.ckpt\"):\n",
        "    !wget https://huggingface.co/a1079602570/animefull-final-pruned/resolve/main/novelailatest-pruned.ckpt\n",
        "if AnythingV3 == True:\n",
        "  if not os.path.exists(\"$CKPT_directory_path/Anything-V3.0-pruned.ckpt\"):\n",
        "    !wget https://huggingface.co/Linaqruf/anything-v3.0/resolve/main/Anything-V3.0-pruned.ckpt\n",
        "  if not os.path.exists(\"$CKPT_directory_path/Anything-V3.0.vae.pt\"):\n",
        "    !wget https://huggingface.co/Linaqruf/anything-v3.0/resolve/main/Anything-V3.0.vae.pt\n",
        "if StableDiffusion_v1_5 == True:\n",
        "  if not os.path.exists(\"$CKPT_directory_path/v1-5-pruned.ckpt\"):\n",
        "    !wget https://huggingface.co/runwayml/stable-diffusion-v1-5/resolve/main/v1-5-pruned.ckpt\n",
        "if WaifuDiffusion_v1_3 == True:\n",
        "  if not os.path.exists(\"$CKPT_directory_path/wd-v1-3-float16.ckpt\"):\n",
        "    !wget https://huggingface.co/hakurei/waifu-diffusion-v1-3/resolve/main/wd-v1-3-float16.ckpt\n",
        "  \n",
        "clear_output()\n",
        "print('\u001b[1;32mCOMMON MODELS DONE!')\n",
        "\n",
        "if FirstCustomModel != '':\n",
        "  !wget \"$FirstCustomModel\"\n",
        "if SecondCustomModel != '':\n",
        "  !wget \"$SecondCustomModel\"\n",
        "if ThirdCustomModel != '':\n",
        "  !wget \"$ThirdCustomModel\"  "
      ],
      "metadata": {
        "colab": {
          "base_uri": "https://localhost:8080/"
        },
        "id": "kauowrfL5d30",
        "outputId": "0b9218d2-b8f9-4f85-83d0-64cc81f0d042"
      },
      "execution_count": 2,
      "outputs": [
        {
          "output_type": "stream",
          "name": "stdout",
          "text": [
            "\u001b[1;32mDONE!\n"
          ]
        }
      ]
    },
    {
      "cell_type": "code",
      "source": [
        "!pip install https://github.com/camenduru/stable-diffusion-webui-colab/releases/download/0.0.15/xformers-0.0.15.dev0+189828c.d20221207-cp38-cp38-linux_x86_64.whl\n",
        "%cd /content/gdrive/MyDrive/stable-diffusion-webui/\n",
        "!python launch.py --enable-insecure-extension-access --xformers --ckpt-dir \"$CKPT_directory_path\" --deepdanbooru --precision full --no-half --share --lowram"
      ],
      "metadata": {
        "id": "3tf1QDeRn1xP",
        "colab": {
          "base_uri": "https://localhost:8080/"
        },
        "outputId": "a1ac2d71-d0bb-423a-8e0d-8031226f14d4"
      },
      "execution_count": null,
      "outputs": [
        {
          "output_type": "stream",
          "name": "stdout",
          "text": [
            "Looking in indexes: https://pypi.org/simple, https://us-python.pkg.dev/colab-wheels/public/simple/\n",
            "Collecting xformers==0.0.15.dev0+189828c.d20221207\n",
            "  Downloading https://github.com/camenduru/stable-diffusion-webui-colab/releases/download/0.0.15/xformers-0.0.15.dev0+189828c.d20221207-cp38-cp38-linux_x86_64.whl (102.9 MB)\n",
            "\u001b[K     |████████████████████████████████| 102.9 MB 54 kB/s \n",
            "\u001b[?25hRequirement already satisfied: numpy in /usr/local/lib/python3.8/dist-packages (from xformers==0.0.15.dev0+189828c.d20221207) (1.21.6)\n",
            "Requirement already satisfied: torch>=1.12 in /usr/local/lib/python3.8/dist-packages (from xformers==0.0.15.dev0+189828c.d20221207) (1.13.0+cu116)\n",
            "Collecting pyre-extensions==0.0.23\n",
            "  Downloading pyre_extensions-0.0.23-py3-none-any.whl (11 kB)\n",
            "Requirement already satisfied: typing-extensions in /usr/local/lib/python3.8/dist-packages (from pyre-extensions==0.0.23->xformers==0.0.15.dev0+189828c.d20221207) (4.4.0)\n",
            "Collecting typing-inspect\n",
            "  Downloading typing_inspect-0.8.0-py3-none-any.whl (8.7 kB)\n",
            "Collecting mypy-extensions>=0.3.0\n",
            "  Downloading mypy_extensions-0.4.3-py2.py3-none-any.whl (4.5 kB)\n",
            "Installing collected packages: mypy-extensions, typing-inspect, pyre-extensions, xformers\n",
            "Successfully installed mypy-extensions-0.4.3 pyre-extensions-0.0.23 typing-inspect-0.8.0 xformers-0.0.15.dev0+189828c.d20221207\n",
            "/content/gdrive/.shortcut-targets-by-id/1dX-EdKJc68925M5ZP2Jlg3vZJNFI1a_v/stable-diffusion-webui\n",
            "Python 3.8.16 (default, Dec  7 2022, 01:12:13) \n",
            "[GCC 7.5.0]\n",
            "Commit hash: 4af3ca5393151d61363c30eef4965e694eeac15e\n",
            "Installing gfpgan\n",
            "Installing clip\n",
            "Installing open_clip\n",
            "Installing requirements for CodeFormer\n",
            "Installing requirements for Web UI\n",
            "Installing requirements for scikit_learn\n",
            "\n",
            "Launching Web UI with arguments: --enable-insecure-extension-access --xformers --ckpt-dir /content/models --deepdanbooru --precision full --no-half --share --lowram\n",
            "Checkpoint wd-v1-3-float16.ckpt [84692140] not found; loading fallback Anything-V3.0-pruned.ckpt [2700c435]\n",
            "LatentDiffusion: Running in eps-prediction mode\n",
            "DiffusionWrapper has 859.52 M params.\n",
            "Downloading: 100% 939k/939k [00:01<00:00, 873kB/s] \n",
            "Downloading: 100% 512k/512k [00:01<00:00, 470kB/s]\n",
            "Downloading: 100% 389/389 [00:00<00:00, 345kB/s]\n",
            "Downloading: 100% 905/905 [00:00<00:00, 817kB/s]\n",
            "Downloading: 100% 4.41k/4.41k [00:00<00:00, 3.72MB/s]\n",
            "Downloading: 100% 1.59G/1.59G [00:18<00:00, 93.4MB/s]\n",
            "Loading weights [2700c435] from /content/models/Anything-V3.0-pruned.ckpt\n",
            "Applying xformers cross attention optimization.\n",
            "Model loaded.\n",
            "Checkpoint wd-v1-3-float16.ckpt [84692140] not found; loading fallback Anything-V3.0-pruned.ckpt [2700c435]\n",
            "Loaded a total of 2 textual inversion embeddings.\n",
            "Embeddings: dream-soi-fong-v2, dream-soi-fong-v2-neg\n",
            "Running on local URL:  http://127.0.0.1:7860\n",
            "Running on public URL: https://5daedb844f81866f.gradio.app\n",
            "\n",
            "This share link expires in 72 hours. For free permanent hosting and GPU upgrades (NEW!), check out Spaces: https://huggingface.co/spaces\n"
          ]
        }
      ]
    }
  ]
}